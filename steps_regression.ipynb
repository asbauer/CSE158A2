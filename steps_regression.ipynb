{
 "cells": [
  {
   "cell_type": "code",
   "execution_count": 35,
   "metadata": {},
   "outputs": [],
   "source": [
    "import numpy as np\n",
    "import csv\n",
    "from collections import defaultdict\n",
    "from sklearn import linear_model\n",
    "import pandas as pd"
   ]
  },
  {
   "cell_type": "code",
   "execution_count": 36,
   "metadata": {},
   "outputs": [],
   "source": [
    "def csv_to_list(file_name):\n",
    "    d = []\n",
    "    with open(file_name, newline='') as csv_file:\n",
    "        reader = csv.reader(csv_file)\n",
    "        for line in reader:\n",
    "            d.append({'user_id': line[0], 'recipe_id': line[1], 'date': line[2], 'rating': line[3], 'u': line[4], 'i': line[5]})\n",
    "    return d[1:]\n",
    "\n",
    "def MSE(y, ypred):\n",
    "    return sum(x**2 for x in (y - ypred)) / len(y)"
   ]
  },
  {
   "cell_type": "code",
   "execution_count": 37,
   "metadata": {},
   "outputs": [],
   "source": [
    "data_train = csv_to_list('interactions_train.csv')\n",
    "data_valid = csv_to_list('interactions_validation.csv')\n",
    "data_test = csv_to_list('interactions_test.csv')\n",
    "test_Y = [float(d['rating']) for d in data_test]"
   ]
  },
  {
   "cell_type": "code",
   "execution_count": 38,
   "metadata": {},
   "outputs": [
    {
     "data": {
      "text/plain": [
       "4.574089892559891"
      ]
     },
     "execution_count": 38,
     "metadata": {},
     "output_type": "execute_result"
    }
   ],
   "source": [
    "sum([float(d['rating']) for d in data_train]) / len(data_train)"
   ]
  },
  {
   "cell_type": "code",
   "execution_count": 39,
   "metadata": {},
   "outputs": [
    {
     "data": {
      "text/plain": [
       "5"
      ]
     },
     "execution_count": 39,
     "metadata": {},
     "output_type": "execute_result"
    }
   ],
   "source": [
    "global_average_rating = round(sum([float(d['rating']) for d in data_train]) / len(data_train))\n",
    "global_average_rating"
   ]
  },
  {
   "cell_type": "code",
   "execution_count": 40,
   "metadata": {},
   "outputs": [],
   "source": [
    "# Logistic Regression with Number of Steps Only"
   ]
  },
  {
   "cell_type": "code",
   "execution_count": 41,
   "metadata": {},
   "outputs": [],
   "source": [
    "#PP_recipes contains information for every recipe\n",
    "pp_recipes  = pd.read_csv('PP_recipes.csv')"
   ]
  },
  {
   "cell_type": "code",
   "execution_count": 42,
   "metadata": {},
   "outputs": [],
   "source": [
    "pp_steps = pp_recipes['steps_tokens']\n",
    "temp = pp_recipes['id']\n",
    "ids = [str(num) for num in temp]\n",
    "len_steps = [len(d) for d in pp_steps]"
   ]
  },
  {
   "cell_type": "code",
   "execution_count": 43,
   "metadata": {},
   "outputs": [],
   "source": [
    "#Map every recipe ID to its number of steps\n",
    "id_to_steps = dict(zip(ids, len_steps))"
   ]
  },
  {
   "cell_type": "code",
   "execution_count": 44,
   "metadata": {},
   "outputs": [],
   "source": [
    "X_train = [[1 ,id_to_steps[d['recipe_id']]] for d in data_train]\n",
    "Y_train = [float(d['rating']) for d in data_train]"
   ]
  },
  {
   "cell_type": "code",
   "execution_count": 45,
   "metadata": {},
   "outputs": [
    {
     "data": {
      "text/plain": [
       "array([4.55585841e+00, 2.64976818e-05])"
      ]
     },
     "execution_count": 45,
     "metadata": {},
     "output_type": "execute_result"
    }
   ],
   "source": [
    "model =linear_model.LinearRegression ( fit_intercept = False)\n",
    "model.fit(X_train,Y_train)\n",
    "theta = model.coef_\n",
    "theta"
   ]
  },
  {
   "cell_type": "code",
   "execution_count": 46,
   "metadata": {},
   "outputs": [],
   "source": [
    "#Use Step Number Regression Model on Test Set\n",
    "predict_Y = [0] * len(data_test)\n",
    "\n",
    "for i in range(len(data_test)):\n",
    "    recipe = data_test[i]['recipe_id']\n",
    "    if recipe in id_to_steps:\n",
    "        predict_Y[i] = theta[0]+ theta[1]*id_to_steps[recipe]\n",
    "    else:\n",
    "        predict_Y[i] = 5\n"
   ]
  },
  {
   "cell_type": "code",
   "execution_count": 47,
   "metadata": {},
   "outputs": [
    {
     "name": "stdout",
     "output_type": "stream",
     "text": [
      "1.922033907295291\n"
     ]
    }
   ],
   "source": [
    "MSE_list = {}\n",
    "mse = MSE(test_Y, np.array(predict_Y))\n",
    "print(mse)\n",
    "MSE_list['steps'] = mse"
   ]
  },
  {
   "cell_type": "code",
   "execution_count": 48,
   "metadata": {},
   "outputs": [],
   "source": [
    "# Logistic Regression with Number of Ingredients Only\n",
    "pp_Ing = pp_recipes['ingredient_tokens']\n",
    "temp = pp_recipes['id']\n",
    "ids = [str(num) for num in temp]\n",
    "len_Ing = [len(d) for d in pp_Ing]"
   ]
  },
  {
   "cell_type": "code",
   "execution_count": 49,
   "metadata": {},
   "outputs": [],
   "source": [
    "#Map every recipe ID to its number of steps\n",
    "id_to_ingredients = dict(zip(ids, len_Ing))"
   ]
  },
  {
   "cell_type": "code",
   "execution_count": 50,
   "metadata": {},
   "outputs": [],
   "source": [
    "X_train = [[1 ,id_to_ingredients[d['recipe_id']]] for d in data_train]\n",
    "Y_train = [float(d['rating']) for d in data_train]"
   ]
  },
  {
   "cell_type": "code",
   "execution_count": 51,
   "metadata": {},
   "outputs": [
    {
     "data": {
      "text/plain": [
       "array([4.56593736e+00, 5.71766110e-05])"
      ]
     },
     "execution_count": 51,
     "metadata": {},
     "output_type": "execute_result"
    }
   ],
   "source": [
    "model =linear_model.LinearRegression ( fit_intercept = False)\n",
    "model.fit(X_train,Y_train)\n",
    "theta = model.coef_\n",
    "theta"
   ]
  },
  {
   "cell_type": "code",
   "execution_count": 52,
   "metadata": {},
   "outputs": [],
   "source": [
    "#Use Ingredient Number Regression Model on Test Set\n",
    "predict_Y = [0] * len(data_test)\n",
    "\n",
    "for i in range(len(data_test)):\n",
    "    recipe = data_test[i]['recipe_id']\n",
    "    if recipe in id_to_ingredients:\n",
    "        predict_Y[i] = theta[0]+ theta[1]*id_to_ingredients[recipe]\n",
    "    else:\n",
    "        predict_Y[i] = 5\n"
   ]
  },
  {
   "cell_type": "code",
   "execution_count": 53,
   "metadata": {},
   "outputs": [
    {
     "name": "stdout",
     "output_type": "stream",
     "text": [
      "1.9217262790108383\n"
     ]
    }
   ],
   "source": [
    "mse = MSE(test_Y, np.array(predict_Y))\n",
    "print(mse)\n",
    "MSE_list['ing'] = mse"
   ]
  },
  {
   "cell_type": "code",
   "execution_count": 54,
   "metadata": {},
   "outputs": [],
   "source": [
    "#Logistic Regression with Both Steps and Ingredients"
   ]
  },
  {
   "cell_type": "code",
   "execution_count": 55,
   "metadata": {},
   "outputs": [],
   "source": [
    "X_train = [[1 ,id_to_ingredients[d['recipe_id']], id_to_steps[d['recipe_id']]] for d in data_train]\n",
    "Y_train = [float(d['rating']) for d in data_train]"
   ]
  },
  {
   "cell_type": "code",
   "execution_count": 56,
   "metadata": {},
   "outputs": [
    {
     "data": {
      "text/plain": [
       "array([4.55530180e+00, 5.82835989e-06, 2.60988183e-05])"
      ]
     },
     "execution_count": 56,
     "metadata": {},
     "output_type": "execute_result"
    }
   ],
   "source": [
    "model =linear_model.LinearRegression ( fit_intercept = False)\n",
    "model.fit(X_train,Y_train)\n",
    "theta = model.coef_\n",
    "theta"
   ]
  },
  {
   "cell_type": "code",
   "execution_count": 57,
   "metadata": {},
   "outputs": [],
   "source": [
    "#Use Ingredient Number Regression Model on Test Set\n",
    "predict_Y = [0] * len(data_test)\n",
    "\n",
    "for i in range(len(data_test)):\n",
    "    recipe = data_test[i]['recipe_id']\n",
    "    if recipe in id_to_ingredients:\n",
    "        predict_Y[i] = theta[0]+ theta[1]*id_to_ingredients[recipe] + theta[2] * id_to_steps[recipe]\n",
    "    else:\n",
    "        predict_Y[i] = 5"
   ]
  },
  {
   "cell_type": "code",
   "execution_count": 58,
   "metadata": {},
   "outputs": [],
   "source": [
    "MSE(test_Y, np.array(predict_Y))\n",
    "MSE_list['steps and ing'] = MSE(test_Y, np.array(predict_Y))"
   ]
  },
  {
   "cell_type": "code",
   "execution_count": 59,
   "metadata": {},
   "outputs": [
    {
     "name": "stdout",
     "output_type": "stream",
     "text": [
      "{'steps': 1.922033907295291, 'ing': 1.9217262790108383, 'steps and ing': 1.9220255109190323}\n"
     ]
    }
   ],
   "source": [
    "print(MSE_list)"
   ]
  }
 ],
 "metadata": {
  "kernelspec": {
   "display_name": "Python 3 (ipykernel)",
   "language": "python",
   "name": "python3"
  },
  "language_info": {
   "codemirror_mode": {
    "name": "ipython",
    "version": 3
   },
   "file_extension": ".py",
   "mimetype": "text/x-python",
   "name": "python",
   "nbconvert_exporter": "python",
   "pygments_lexer": "ipython3",
   "version": "3.9.5"
  }
 },
 "nbformat": 4,
 "nbformat_minor": 2
}
